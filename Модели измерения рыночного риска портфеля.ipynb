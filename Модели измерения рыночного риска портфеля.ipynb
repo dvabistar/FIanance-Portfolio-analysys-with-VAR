{
 "cells": [
  {
   "cell_type": "markdown",
   "id": "850b918a",
   "metadata": {},
   "source": [
    "# Библиотеки"
   ]
  },
  {
   "cell_type": "code",
   "execution_count": 2,
   "id": "a6e25ffd",
   "metadata": {},
   "outputs": [],
   "source": [
    "import pandas as pd\n",
    "import numpy as np\n",
    "import scipy.stats as sps"
   ]
  },
  {
   "cell_type": "markdown",
   "id": "f17caa1f",
   "metadata": {},
   "source": [
    "# Загрузка и обработка данных"
   ]
  },
  {
   "cell_type": "code",
   "execution_count": 20,
   "id": "07e754e3",
   "metadata": {},
   "outputs": [
    {
     "data": {
      "text/html": [
       "<div>\n",
       "<style scoped>\n",
       "    .dataframe tbody tr th:only-of-type {\n",
       "        vertical-align: middle;\n",
       "    }\n",
       "\n",
       "    .dataframe tbody tr th {\n",
       "        vertical-align: top;\n",
       "    }\n",
       "\n",
       "    .dataframe thead th {\n",
       "        text-align: right;\n",
       "    }\n",
       "</style>\n",
       "<table border=\"1\" class=\"dataframe\">\n",
       "  <thead>\n",
       "    <tr style=\"text-align: right;\">\n",
       "      <th></th>\n",
       "      <th>Дата</th>\n",
       "      <th>Значение</th>\n",
       "    </tr>\n",
       "  </thead>\n",
       "  <tbody>\n",
       "    <tr>\n",
       "      <th>0</th>\n",
       "      <td>2020-01-01</td>\n",
       "      <td>7200.17000</td>\n",
       "    </tr>\n",
       "    <tr>\n",
       "      <th>1</th>\n",
       "      <td>2020-01-02</td>\n",
       "      <td>6985.47000</td>\n",
       "    </tr>\n",
       "    <tr>\n",
       "      <th>2</th>\n",
       "      <td>2020-01-03</td>\n",
       "      <td>7344.88000</td>\n",
       "    </tr>\n",
       "    <tr>\n",
       "      <th>3</th>\n",
       "      <td>2020-01-04</td>\n",
       "      <td>7410.66000</td>\n",
       "    </tr>\n",
       "    <tr>\n",
       "      <th>4</th>\n",
       "      <td>2020-01-05</td>\n",
       "      <td>7411.32000</td>\n",
       "    </tr>\n",
       "    <tr>\n",
       "      <th>...</th>\n",
       "      <td>...</td>\n",
       "      <td>...</td>\n",
       "    </tr>\n",
       "    <tr>\n",
       "      <th>361</th>\n",
       "      <td>2020-12-27</td>\n",
       "      <td>26366.62790</td>\n",
       "    </tr>\n",
       "    <tr>\n",
       "      <th>362</th>\n",
       "      <td>2020-12-28</td>\n",
       "      <td>26740.00980</td>\n",
       "    </tr>\n",
       "    <tr>\n",
       "      <th>363</th>\n",
       "      <td>2020-12-29</td>\n",
       "      <td>26898.76162</td>\n",
       "    </tr>\n",
       "    <tr>\n",
       "      <th>364</th>\n",
       "      <td>2020-12-30</td>\n",
       "      <td>28914.69584</td>\n",
       "    </tr>\n",
       "    <tr>\n",
       "      <th>365</th>\n",
       "      <td>2020-12-31</td>\n",
       "      <td>28961.54359</td>\n",
       "    </tr>\n",
       "  </tbody>\n",
       "</table>\n",
       "<p>366 rows × 2 columns</p>\n",
       "</div>"
      ],
      "text/plain": [
       "          Дата     Значение\n",
       "0   2020-01-01   7200.17000\n",
       "1   2020-01-02   6985.47000\n",
       "2   2020-01-03   7344.88000\n",
       "3   2020-01-04   7410.66000\n",
       "4   2020-01-05   7411.32000\n",
       "..         ...          ...\n",
       "361 2020-12-27  26366.62790\n",
       "362 2020-12-28  26740.00980\n",
       "363 2020-12-29  26898.76162\n",
       "364 2020-12-30  28914.69584\n",
       "365 2020-12-31  28961.54359\n",
       "\n",
       "[366 rows x 2 columns]"
      ]
     },
     "execution_count": 20,
     "metadata": {},
     "output_type": "execute_result"
    }
   ],
   "source": [
    "df_btc_20 = pd.read_excel(r\"C:\\Users\\Владимир\\Desktop\\bitcoin_2020.xlsx\").sort_values('Дата').reset_index(drop=True)\n",
    "df_btc_20"
   ]
  },
  {
   "cell_type": "code",
   "execution_count": 11,
   "id": "7436291b",
   "metadata": {},
   "outputs": [],
   "source": [
    "#расчет исторической доходности\n",
    "\n",
    "#конвертация в массив NP\n",
    "p = np.array(df_btc_20.iloc[:,1:2])\n",
    "\n",
    "#массив доходности\n",
    "r = p[1:]/p[:-1] - 1\n",
    "\n",
    "#средняя геометрическая дневная доходность\n",
    "mu = np.prod(1+r)**(1/len(r)) - 1\n",
    "\n",
    "#стандартное отклонения\n",
    "sigma = np.std(r)"
   ]
  },
  {
   "cell_type": "markdown",
   "id": "9342d88b",
   "metadata": {},
   "source": [
    "## Расчёт рисков (VAR)"
   ]
  },
  {
   "cell_type": "code",
   "execution_count": 12,
   "id": "82c15668",
   "metadata": {},
   "outputs": [],
   "source": [
    "#вкладываемая сумма в валюте\n",
    "value = 1000000\n",
    "\n",
    "#сколько процентов наихудших исходов мы расмматриваем для расчет показателей (в процентном выражении)\n",
    "var = 0.99\n",
    "\n",
    "#доверительный интервал\n",
    "a = 1 - var"
   ]
  },
  {
   "cell_type": "code",
   "execution_count": 19,
   "id": "78d4119c",
   "metadata": {},
   "outputs": [
    {
     "name": "stdout",
     "output_type": "stream",
     "text": [
      "Параметрические Value at Risk 83096.14\n",
      "Исторический Value at Risk 88264.19\n",
      "Монте-Карло Value at Risk 81980.52\n"
     ]
    }
   ],
   "source": [
    "#параметрический VAR\n",
    "VCV_var = -value * (mu + sigma*sps.norm.ppf(a))\n",
    "print('Параметрические Value at Risk ' + str(round(VCV_var, 2)))\n",
    "\n",
    "#исторический VAR\n",
    "HS_var = -value*np.quantile(r, a)\n",
    "print('Исторический Value at Risk ' + str(round(HS_var, 2)))\n",
    "\n",
    "#симуляция Монте-Карло\n",
    "\n",
    "#количество симуляций\n",
    "n = 1000\n",
    "\n",
    "#задаем дрифт\n",
    "drift = mu - sigma**2/2\n",
    "\n",
    "#массив симуляций\n",
    "sim = np.random.normal(drift, sigma, n)\n",
    "\n",
    "#один процент наихудших исходов\n",
    "MCS_var = -value*np.quantile(sim, a)\n",
    "print('Монте-Карло Value at Risk ' + str(round(MCS_var, 2)))\n"
   ]
  },
  {
   "cell_type": "markdown",
   "id": "483901fc",
   "metadata": {},
   "source": [
    "# Функция"
   ]
  },
  {
   "cell_type": "code",
   "execution_count": 29,
   "id": "85a19b29",
   "metadata": {},
   "outputs": [],
   "source": [
    "#для одного датасета\n",
    "def var(df):\n",
    "    p = np.array(df.iloc[:,1:2])\n",
    "    r = p[1:]/p[:-1] - 1\n",
    "    mu = np.prod(1+r)**(1/len(r)) - 1\n",
    "    sigma = np.std(r)\n",
    "    value = 1000000\n",
    "    var = 0.99\n",
    "    a = 1 - var\n",
    "    VCV_var = -value * (mu + sigma*sps.norm.ppf(a))\n",
    "    print('Параметрические Value at Risk ' + str(round(VCV_var, 2)))\n",
    "    HS_var = -value*np.quantile(r, a)\n",
    "    print('Исторический Value at Risk ' + str(round(HS_var, 2)))\n",
    "    n = 1000\n",
    "    drift = mu - sigma**2/2\n",
    "    sim = np.random.normal(drift, sigma, n)\n",
    "    MCS_var = -value*np.quantile(sim, a)\n",
    "    print('Монте-Карло Value at Risk ' + str(round(MCS_var, 2)))\n",
    "    \n",
    "#для нескольких датасетов\n",
    "def var_df_list(df_list):\n",
    "    for df in df_list:\n",
    "        p = np.array(df.iloc[:,1:2])\n",
    "        r = p[1:]/p[:-1] - 1\n",
    "        mu = np.prod(1+r)**(1/len(r)) - 1\n",
    "        sigma = np.std(r)\n",
    "        value = 1000000\n",
    "        var = 0.99\n",
    "        a = 1 - var\n",
    "        VCV_var = -value * (mu + sigma*sps.norm.ppf(a))\n",
    "        print('Параметрические Value at Risk ' + str(round(VCV_var, 2)))\n",
    "        HS_var = -value*np.quantile(r, a)\n",
    "        print('Исторический Value at Risk ' + str(round(HS_var, 2)))\n",
    "        n = 1000\n",
    "        drift = mu - sigma**2/2\n",
    "        sim = np.random.normal(drift, sigma, n)\n",
    "        MCS_var = -value*np.quantile(sim, a)\n",
    "        print('Монте-Карло Value at Risk ' + str(round(MCS_var, 2)))\n",
    "        print()"
   ]
  },
  {
   "cell_type": "code",
   "execution_count": 24,
   "id": "d27085a7",
   "metadata": {},
   "outputs": [
    {
     "name": "stdout",
     "output_type": "stream",
     "text": [
      "Параметрические Value at Risk 83096.14\n",
      "Исторический Value at Risk 88264.19\n",
      "Монте-Карло Value at Risk 84267.44\n"
     ]
    }
   ],
   "source": [
    "#проверка\n",
    "var(df_btc_20)"
   ]
  },
  {
   "cell_type": "markdown",
   "id": "bd859ac2",
   "metadata": {},
   "source": [
    "# Расчет на примере Газпрома"
   ]
  },
  {
   "cell_type": "code",
   "execution_count": 27,
   "id": "dfad1f3e",
   "metadata": {},
   "outputs": [],
   "source": [
    "#проверка на газпроме\n",
    "df_gazp_20 = pd.read_csv(r\"C:\\Users\\Владимир\\Desktop\\GAZP_2020.csv\", sep=';')\n",
    "df_gazp_20['<DATE>'] = pd.to_datetime(df_gazp_20['<DATE>'], format='%Y%m%d')\n",
    "df_gazp_20 = df_gazp_20[['<DATE>', '<CLOSE>']]\n",
    "\n",
    "df_gazp_21 = pd.read_csv(r\"C:\\Users\\Владимир\\Desktop\\GAZP_2021.csv\", sep=';')\n",
    "df_gazp_21['<DATE>'] = pd.to_datetime(df_gazp_21['<DATE>'], format='%Y%m%d')\n",
    "df_gazp_21 = df_gazp_21[['<DATE>', '<CLOSE>']]\n",
    "\n",
    "df_gazp_22 = pd.read_csv(r\"C:\\Users\\Владимир\\Desktop\\GAZP_2022.csv\", sep=';')\n",
    "df_gazp_22['<DATE>'] = pd.to_datetime(df_gazp_22['<DATE>'], format='%Y%m%d')\n",
    "df_gazp_22 = df_gazp_22[['<DATE>', '<CLOSE>']]\n",
    "\n",
    "GAZP_list = [df_gazp_20, df_gazp_21, df_gazp_22]"
   ]
  },
  {
   "cell_type": "code",
   "execution_count": 28,
   "id": "947346df",
   "metadata": {},
   "outputs": [
    {
     "data": {
      "text/html": [
       "<div>\n",
       "<style scoped>\n",
       "    .dataframe tbody tr th:only-of-type {\n",
       "        vertical-align: middle;\n",
       "    }\n",
       "\n",
       "    .dataframe tbody tr th {\n",
       "        vertical-align: top;\n",
       "    }\n",
       "\n",
       "    .dataframe thead th {\n",
       "        text-align: right;\n",
       "    }\n",
       "</style>\n",
       "<table border=\"1\" class=\"dataframe\">\n",
       "  <thead>\n",
       "    <tr style=\"text-align: right;\">\n",
       "      <th></th>\n",
       "      <th>&lt;DATE&gt;</th>\n",
       "      <th>&lt;CLOSE&gt;</th>\n",
       "    </tr>\n",
       "  </thead>\n",
       "  <tbody>\n",
       "    <tr>\n",
       "      <th>0</th>\n",
       "      <td>2022-01-03</td>\n",
       "      <td>353.73</td>\n",
       "    </tr>\n",
       "    <tr>\n",
       "      <th>1</th>\n",
       "      <td>2022-01-04</td>\n",
       "      <td>352.55</td>\n",
       "    </tr>\n",
       "    <tr>\n",
       "      <th>2</th>\n",
       "      <td>2022-01-05</td>\n",
       "      <td>335.00</td>\n",
       "    </tr>\n",
       "    <tr>\n",
       "      <th>3</th>\n",
       "      <td>2022-01-06</td>\n",
       "      <td>346.13</td>\n",
       "    </tr>\n",
       "    <tr>\n",
       "      <th>4</th>\n",
       "      <td>2022-01-10</td>\n",
       "      <td>344.00</td>\n",
       "    </tr>\n",
       "    <tr>\n",
       "      <th>...</th>\n",
       "      <td>...</td>\n",
       "      <td>...</td>\n",
       "    </tr>\n",
       "    <tr>\n",
       "      <th>163</th>\n",
       "      <td>2022-09-22</td>\n",
       "      <td>231.45</td>\n",
       "    </tr>\n",
       "    <tr>\n",
       "      <th>164</th>\n",
       "      <td>2022-09-23</td>\n",
       "      <td>224.84</td>\n",
       "    </tr>\n",
       "    <tr>\n",
       "      <th>165</th>\n",
       "      <td>2022-09-26</td>\n",
       "      <td>206.00</td>\n",
       "    </tr>\n",
       "    <tr>\n",
       "      <th>166</th>\n",
       "      <td>2022-09-27</td>\n",
       "      <td>217.30</td>\n",
       "    </tr>\n",
       "    <tr>\n",
       "      <th>167</th>\n",
       "      <td>2022-09-28</td>\n",
       "      <td>217.82</td>\n",
       "    </tr>\n",
       "  </tbody>\n",
       "</table>\n",
       "<p>168 rows × 2 columns</p>\n",
       "</div>"
      ],
      "text/plain": [
       "        <DATE>  <CLOSE>\n",
       "0   2022-01-03   353.73\n",
       "1   2022-01-04   352.55\n",
       "2   2022-01-05   335.00\n",
       "3   2022-01-06   346.13\n",
       "4   2022-01-10   344.00\n",
       "..         ...      ...\n",
       "163 2022-09-22   231.45\n",
       "164 2022-09-23   224.84\n",
       "165 2022-09-26   206.00\n",
       "166 2022-09-27   217.30\n",
       "167 2022-09-28   217.82\n",
       "\n",
       "[168 rows x 2 columns]"
      ]
     },
     "execution_count": 28,
     "metadata": {},
     "output_type": "execute_result"
    }
   ],
   "source": [
    "df_gazp_22"
   ]
  },
  {
   "cell_type": "code",
   "execution_count": 30,
   "id": "315e8e72",
   "metadata": {},
   "outputs": [
    {
     "name": "stdout",
     "output_type": "stream",
     "text": [
      "Параметрические Value at Risk 44536.45\n",
      "Исторический Value at Risk 54046.56\n",
      "Монте-Карло Value at Risk 48742.94\n",
      "\n",
      "Параметрические Value at Risk 36936.69\n",
      "Исторический Value at Risk 36857.17\n",
      "Монте-Карло Value at Risk 34538.14\n",
      "\n",
      "Параметрические Value at Risk 125171.19\n",
      "Исторический Value at Risk 199436.6\n",
      "Монте-Карло Value at Risk 123461.92\n",
      "\n"
     ]
    }
   ],
   "source": [
    "var_df_list(GAZP_list)"
   ]
  }
 ],
 "metadata": {
  "kernelspec": {
   "display_name": "Python 3 (ipykernel)",
   "language": "python",
   "name": "python3"
  },
  "language_info": {
   "codemirror_mode": {
    "name": "ipython",
    "version": 3
   },
   "file_extension": ".py",
   "mimetype": "text/x-python",
   "name": "python",
   "nbconvert_exporter": "python",
   "pygments_lexer": "ipython3",
   "version": "3.9.12"
  }
 },
 "nbformat": 4,
 "nbformat_minor": 5
}
